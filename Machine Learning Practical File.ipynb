{
 "cells": [
  {
   "cell_type": "code",
   "execution_count": 1,
   "id": "b4f89e3e",
   "metadata": {},
   "outputs": [],
   "source": [
    "import numpy as np\n",
    "import pandas as pd\n",
    "import matplotlib.pyplot as plt"
   ]
  },
  {
   "cell_type": "markdown",
   "id": "543fc4ee",
   "metadata": {},
   "source": [
    "## Question 1.\n",
    "Perform elementary mathematical operations in Octave/MATLAB like addition, \n",
    "multiplication, division and exponentiation."
   ]
  },
  {
   "cell_type": "code",
   "execution_count": 2,
   "id": "88f4bbfb",
   "metadata": {},
   "outputs": [
    {
     "data": {
      "text/plain": [
       "3"
      ]
     },
     "execution_count": 2,
     "metadata": {},
     "output_type": "execute_result"
    }
   ],
   "source": [
    "1+2"
   ]
  },
  {
   "cell_type": "code",
   "execution_count": 3,
   "id": "77d6e131",
   "metadata": {},
   "outputs": [
    {
     "data": {
      "text/plain": [
       "2"
      ]
     },
     "execution_count": 3,
     "metadata": {},
     "output_type": "execute_result"
    }
   ],
   "source": [
    "1*2"
   ]
  },
  {
   "cell_type": "code",
   "execution_count": 4,
   "id": "feba2e19",
   "metadata": {},
   "outputs": [
    {
     "data": {
      "text/plain": [
       "0.5"
      ]
     },
     "execution_count": 4,
     "metadata": {},
     "output_type": "execute_result"
    }
   ],
   "source": [
    "1/2"
   ]
  },
  {
   "cell_type": "code",
   "execution_count": 5,
   "id": "6a78661f",
   "metadata": {},
   "outputs": [
    {
     "data": {
      "text/plain": [
       "2"
      ]
     },
     "execution_count": 5,
     "metadata": {},
     "output_type": "execute_result"
    }
   ],
   "source": [
    "1^3"
   ]
  },
  {
   "cell_type": "code",
   "execution_count": 6,
   "id": "4b35d7a9",
   "metadata": {},
   "outputs": [
    {
     "data": {
      "text/plain": [
       "2"
      ]
     },
     "execution_count": 6,
     "metadata": {},
     "output_type": "execute_result"
    }
   ],
   "source": [
    "3^1"
   ]
  },
  {
   "cell_type": "code",
   "execution_count": 7,
   "id": "a368a8bd",
   "metadata": {},
   "outputs": [
    {
     "data": {
      "text/plain": [
       "8"
      ]
     },
     "execution_count": 7,
     "metadata": {},
     "output_type": "execute_result"
    }
   ],
   "source": [
    "2**3"
   ]
  },
  {
   "cell_type": "code",
   "execution_count": 8,
   "id": "8703b965",
   "metadata": {},
   "outputs": [
    {
     "data": {
      "text/plain": [
       "8"
      ]
     },
     "execution_count": 8,
     "metadata": {},
     "output_type": "execute_result"
    }
   ],
   "source": [
    "pow(2,3)"
   ]
  },
  {
   "cell_type": "markdown",
   "id": "3f856146",
   "metadata": {},
   "source": [
    "## Question 2.\n",
    "Perform elementary logical operations in Octave/MATLAB (like OR, AND, Checking for\n",
    "Equality, NOT, XOR).\n"
   ]
  },
  {
   "cell_type": "code",
   "execution_count": 9,
   "id": "9d976854",
   "metadata": {},
   "outputs": [
    {
     "name": "stdout",
     "output_type": "stream",
     "text": [
      "The numbers are greater than 0\n",
      "Atleast one number is not greater than 0\n",
      "Either of the number is greater than 0\n",
      "Either of the number is greater than 0\n"
     ]
    }
   ],
   "source": [
    "# Python program to demonstrate\n",
    "# logical and operator\n",
    "\n",
    "a = 10\n",
    "b = 10\n",
    "c = -10\n",
    "\n",
    "if a > 0 and b > 0:\n",
    "\tprint(\"The numbers are greater than 0\")\n",
    "\n",
    "if a > 0 and b > 0 and c > 0:\n",
    "\tprint(\"The numbers are greater than 0\")\n",
    "else:\n",
    "\tprint(\"Atleast one number is not greater than 0\")\n",
    "\n",
    "if a > 0 or b > 0:\n",
    "    print(\"Either of the number is greater than 0\")\n",
    "else:\n",
    "    print(\"No number is greater than 0\")\n",
    "  \n",
    "if b > 0 or c > 0:\n",
    "    print(\"Either of the number is greater than 0\")\n",
    "else:\n",
    "    print(\"No number is greater than 0\")\n",
    "    "
   ]
  },
  {
   "cell_type": "code",
   "execution_count": 10,
   "id": "4890c388",
   "metadata": {},
   "outputs": [
    {
     "name": "stdout",
     "output_type": "stream",
     "text": [
      "10 is divisible by either 3 or 5\n"
     ]
    }
   ],
   "source": [
    "a = 10\n",
    "  \n",
    "if not a:\n",
    "    print(\"Boolean value of a is True\")\n",
    "  \n",
    "if not (a%3 == 0 or a%5 == 0):\n",
    "    print(\"10 is not divisible by either 3 or 5\")\n",
    "else:\n",
    "    print(\"10 is divisible by either 3 or 5\")\n"
   ]
  },
  {
   "cell_type": "code",
   "execution_count": 11,
   "id": "9f71eb48",
   "metadata": {},
   "outputs": [
    {
     "name": "stdout",
     "output_type": "stream",
     "text": [
      "Method called for value: -1\n",
      "Method called for value: 5\n",
      "Atleast one of the number is positive\n"
     ]
    }
   ],
   "source": [
    "def order(x):\n",
    "    print(\"Method called for value:\", x)\n",
    "    return True if x > 0 else False\n",
    "      \n",
    "a = order\n",
    "b = order\n",
    "c = order\n",
    "  \n",
    "if a(-1) or b(5) or c(10):\n",
    "    print(\"Atleast one of the number is positive\")"
   ]
  },
  {
   "cell_type": "markdown",
   "id": "ba59fe28",
   "metadata": {},
   "source": [
    "## Question 3.\n",
    "Create, initialize and display simple variables and simple strings and use simple formatting for\n",
    "variable."
   ]
  },
  {
   "cell_type": "code",
   "execution_count": 12,
   "id": "23387f89",
   "metadata": {},
   "outputs": [
    {
     "name": "stdout",
     "output_type": "stream",
     "text": [
      "hello\n",
      "a = 6\n"
     ]
    }
   ],
   "source": [
    "a=6\n",
    "b=\"hello\"\n",
    "print(b)\n",
    "print(\"a =\",a)\n"
   ]
  },
  {
   "cell_type": "code",
   "execution_count": 13,
   "id": "4203e6ef",
   "metadata": {},
   "outputs": [
    {
     "name": "stdout",
     "output_type": "stream",
     "text": [
      "101\n",
      "I am learning Python\n",
      "101\n"
     ]
    }
   ],
   "source": [
    "# Declare a variable and initialize it\n",
    "f = 101\n",
    "print (f)\n",
    "# Global vs. local variables in functions\n",
    "def someFunction():\n",
    "# global f\n",
    "    f = 'I am learning Python'\n",
    "    print (f)\n",
    "someFunction()\n",
    "print (f)"
   ]
  },
  {
   "cell_type": "markdown",
   "id": "6af74ee2",
   "metadata": {},
   "source": [
    "## Question 4.\n",
    "Create/Define single dimension / multi-dimension arrays, and arrays with specific values like\n",
    "array of all ones, all zeros, array with random values within a range, or a diagonal matrix"
   ]
  },
  {
   "cell_type": "code",
   "execution_count": 14,
   "id": "cc21304a",
   "metadata": {},
   "outputs": [
    {
     "name": "stdout",
     "output_type": "stream",
     "text": [
      "Ones  [[1. 1. 1. 1.]\n",
      " [1. 1. 1. 1.]\n",
      " [1. 1. 1. 1.]]\n",
      "Zeroes [[[0 0 0 0]\n",
      "  [0 0 0 0]\n",
      "  [0 0 0 0]]\n",
      "\n",
      " [[0 0 0 0]\n",
      "  [0 0 0 0]\n",
      "  [0 0 0 0]]]\n",
      "Random  [[0.51359395 0.64229237]\n",
      " [0.31943379 0.98172193]]\n",
      "Empty  [[0. 0.]\n",
      " [0. 0.]\n",
      " [0. 0.]]\n",
      "Full  [[7 7]\n",
      " [7 7]]\n",
      "Evenly Spaced  [10 15 20]\n",
      "Linspace  [0.   0.25 0.5  0.75 1.   1.25 1.5  1.75 2.  ]\n"
     ]
    }
   ],
   "source": [
    "# Create an array of ones\n",
    "print(\"Ones \", np.ones((3,4)))\n",
    "\n",
    "# Create an array of zeros\n",
    "print(\"Zeroes\", np.zeros((2,3,4),dtype=np.int16))\n",
    "\n",
    "# Create an array with random values\n",
    "print(\"Random \", np.random.random((2,2)))\n",
    "\n",
    "# Create an empty array\n",
    "print(\"Empty \",np.empty((3,2)))\n",
    "\n",
    "# Create a full array\n",
    "print(\"Full \",np.full((2,2),7))\n",
    "\n",
    "# Create an array of evenly-spaced values\n",
    "print(\"Evenly Spaced \",np.arange(10,25,5))\n",
    "\n",
    "# Create an array of evenly-spaced values\n",
    "print(\"Linspace \",np.linspace(0,2,9))"
   ]
  },
  {
   "cell_type": "markdown",
   "id": "b275e930",
   "metadata": {},
   "source": [
    "## Question 5.\n",
    "Use command to compute the size of a matrix, size/length of a particular row/column, load \n",
    "data from a text file, store matrix data to a text file, finding out variables and their features in the\n",
    "current scope.\n"
   ]
  },
  {
   "cell_type": "code",
   "execution_count": 15,
   "id": "98e5fa0d",
   "metadata": {},
   "outputs": [
    {
     "name": "stdout",
     "output_type": "stream",
     "text": [
      "[['Mon' '18' '20' '22' '17']\n",
      " ['Tue' '11' '18' '21' '18']\n",
      " ['Wed' '15' '21' '20' '19']\n",
      " ['Thu' '11' '20' '22' '21']\n",
      " ['Fri' '18' '17' '23' '22']\n",
      " ['Sat' '12' '22' '20' '18']\n",
      " ['Sun' '13' '15' '19' '16']]\n"
     ]
    }
   ],
   "source": [
    "a = np.array([['Mon',18,20,22,17],['Tue',11,18,21,18],\n",
    "   ['Wed',15,21,20,19],['Thu',11,20,22,21],\n",
    "   ['Fri',18,17,23,22],['Sat',12,22,20,18],\n",
    "   ['Sun',13,15,19,16]])\n",
    "m = np.reshape(a,(7,5))\n",
    "print(m)\n"
   ]
  },
  {
   "cell_type": "code",
   "execution_count": 16,
   "id": "6e558d24",
   "metadata": {},
   "outputs": [
    {
     "data": {
      "text/plain": [
       "35"
      ]
     },
     "execution_count": 16,
     "metadata": {},
     "output_type": "execute_result"
    }
   ],
   "source": [
    "m.size"
   ]
  },
  {
   "cell_type": "code",
   "execution_count": 17,
   "id": "b528601e",
   "metadata": {},
   "outputs": [
    {
     "data": {
      "text/plain": [
       "(7, 5)"
      ]
     },
     "execution_count": 17,
     "metadata": {},
     "output_type": "execute_result"
    }
   ],
   "source": [
    "m.shape"
   ]
  },
  {
   "cell_type": "code",
   "execution_count": 18,
   "id": "6fbe33ed",
   "metadata": {},
   "outputs": [
    {
     "data": {
      "text/plain": [
       "5"
      ]
     },
     "execution_count": 18,
     "metadata": {},
     "output_type": "execute_result"
    }
   ],
   "source": [
    "m[1,:].size"
   ]
  },
  {
   "cell_type": "code",
   "execution_count": 19,
   "id": "2413cffd",
   "metadata": {},
   "outputs": [
    {
     "data": {
      "text/plain": [
       "7"
      ]
     },
     "execution_count": 19,
     "metadata": {},
     "output_type": "execute_result"
    }
   ],
   "source": [
    "len(m)"
   ]
  },
  {
   "cell_type": "code",
   "execution_count": 20,
   "id": "1c98d21f",
   "metadata": {},
   "outputs": [
    {
     "name": "stdout",
     "output_type": "stream",
     "text": [
      "['Lorem ipsum dolor sit amet, consectetur adipiscing elit. Phasellus faucibus dui ut lacus viverra, ut feugiat enim viverra. Sed mattis dui at massa malesuada, ac iaculis orci aliquet. Fusce luctus nunc eu ligula blandit, non placerat urna lobortis. Nulla imperdiet, lectus non tristique fermentum, nisl orci tincidunt ligula, sit amet pharetra mauris ligula sit amet sapien. Phasellus hendrerit commodo commodo. Nulla ultricies est vel semper convallis. Maecenas vel dapibus purus, vel tristique dui. Quisque eu ipsum mattis, scelerisque libero sit amet, accumsan nulla. Vivamus vel nisl ultricies, porta mauris vehicula, tincidunt nisi. Nullam pharetra varius feugiat. Etiam at molestie diam. Aliquam venenatis risus iaculis venenatis sodales. Nullam malesuada sem lectus, eu gravida lorem consequat eget.\\n', '\\n', 'Fusce vestibulum purus vel massa euismod, nec bibendum justo cursus. Proin hendrerit purus lacus, nec volutpat diam laoreet scelerisque. Donec est sem, condimentum et aliquam at, faucibus vitae lorem. Sed eleifend mi orci, quis eleifend justo viverra non. Duis dictum egestas massa sit amet tempus. Aenean id turpis et lacus fermentum iaculis. Pellentesque consectetur nunc sit amet dapibus consequat. Orci varius natoque penatibus et magnis dis parturient montes, nascetur ridiculus mus. Maecenas blandit orci gravida, placerat ligula vel, venenatis lectus. Fusce faucibus dolor eu accumsan sollicitudin. Nam neque erat, cursus id lectus nec, aliquet scelerisque lorem.\\n', '\\n', 'Aenean nec interdum ex. Aenean eget faucibus mauris. Suspendisse luctus tincidunt orci vitae eleifend. Mauris tortor eros, volutpat et tellus faucibus, accumsan rhoncus est. Sed nec pharetra sapien, ut facilisis ipsum. In quis enim in diam cursus vehicula quis a quam. Donec venenatis viverra gravida. Nunc mollis nisi nec nisi porttitor, quis pellentesque libero malesuada. Pellentesque vestibulum tincidunt purus nec vehicula. Aenean porttitor sapien nec leo accumsan finibus. Curabitur non leo nibh. Donec sit amet sem tellus. Fusce pretium vestibulum mattis. Donec rhoncus felis sit amet enim egestas, lacinia pharetra ipsum sodales. Aenean et metus non enim fringilla cursus. Ut venenatis libero ac mattis ultrices.\\n', '\\n', 'Phasellus in porttitor quam. Ut vel sagittis magna, ac sodales mi. Vestibulum at accumsan enim, tempor consequat lacus. Nam pharetra id sapien luctus suscipit. Cras vel facilisis tortor. Donec porttitor eros placerat, consectetur ex ac, posuere erat. Lorem ipsum dolor sit amet, consectetur adipiscing elit. Morbi neque tellus, placerat eu eros fringilla, semper feugiat justo. In vitae ex nulla. Nulla facilisi. Ut tellus purus, blandit eu est sit amet, volutpat aliquam nibh. Aenean eu rutrum urna, ut ultricies arcu. Aenean in aliquet nunc, quis gravida purus. Proin nec eros vel sem mattis tempor. Integer fermentum eros sit amet purus rutrum, non laoreet libero malesuada.\\n', '\\n', 'Phasellus consequat, justo in vehicula varius, orci nunc pellentesque sapien, et vehicula lorem urna ut augue. Donec fermentum, tortor a fermentum dignissim, neque elit laoreet tortor, a pellentesque est elit ut est. Suspendisse potenti. Vestibulum ultrices, tellus dictum auctor sollicitudin, magna neque tincidunt felis, id blandit quam justo in dui. Vivamus eu convallis enim. Lorem ipsum dolor sit amet, consectetur adipiscing elit. Aenean blandit nisl vitae eleifend volutpat. Sed eu odio sed metus maximus elementum. Donec id enim et urna consectetur hendrerit sed in arcu. Vestibulum eu dolor quis lectus ornare dignissim eget a nibh. Aliquam tempor libero non dolor aliquet, sed consequat velit laoreet. Vestibulum rutrum fermentum purus nec feugiat. Maecenas hendrerit suscipit placerat.']\n"
     ]
    }
   ],
   "source": [
    "with open('./5000-words.txt') as f:\n",
    "    lines = f.readlines()\n",
    "    print(lines)"
   ]
  },
  {
   "cell_type": "code",
   "execution_count": 21,
   "id": "62ab3b08",
   "metadata": {},
   "outputs": [
    {
     "name": "stdout",
     "output_type": "stream",
     "text": [
      "Hello World\n",
      "Hello Samuel\n"
     ]
    }
   ],
   "source": [
    "greeting = \"Hello\"\n",
    "\n",
    "def greeting_world():\n",
    "    world = \"World\"\n",
    "    print(greeting, world)\n",
    "\n",
    "def greeting_name(name):\n",
    "    print(greeting, name)\n",
    "\n",
    "greeting_world()\n",
    "greeting_name(\"Samuel\")"
   ]
  },
  {
   "cell_type": "markdown",
   "id": "4c883d74",
   "metadata": {},
   "source": [
    "## Question 6.\n",
    "Perform basic operations on matrices (like addition, subtraction, multiplication) and display\n",
    "specific rows or columns of the matrix."
   ]
  },
  {
   "cell_type": "code",
   "execution_count": 22,
   "id": "5150084a",
   "metadata": {},
   "outputs": [
    {
     "name": "stdout",
     "output_type": "stream",
     "text": [
      " X \n",
      " [[1 2]\n",
      " [4 5]]\n",
      " Y \n",
      " [[ 7  8]\n",
      " [ 9 10]]\n",
      "Addition of two matrices: \n",
      "[[ 8 10]\n",
      " [13 15]]\n",
      "Subtraction of two matrices : \n",
      "[[-6 -6]\n",
      " [-5 -5]]\n",
      "Matrix Division : \n",
      "[[0.14285714 0.25      ]\n",
      " [0.44444444 0.5       ]]\n",
      "Multiplication of two matrices: \n",
      "[[ 7 16]\n",
      " [36 50]]\n",
      "The product of two matrices : \n",
      "[[25 28]\n",
      " [73 82]]\n",
      "square root is : \n",
      "[[1.         1.41421356]\n",
      " [2.         2.23606798]]\n",
      "The summation of elements : \n",
      "34\n",
      "The column wise summation  : \n",
      "[16 18]\n",
      "The row wise summation: \n",
      "[15 19]\n",
      "Matrix transposition : \n",
      "[[1 4]\n",
      " [2 5]]\n",
      "Column 1 of X Matrix [2 5]\n",
      "Row 0 of X Matrix [1 2]\n"
     ]
    }
   ],
   "source": [
    "# Two matrices are initialized by value\n",
    "x = np.array([[1, 2], [4, 5]])\n",
    "y = np.array([[7, 8], [9, 10]])\n",
    "print (\" X \\n\",x)\n",
    "print(\" Y \\n\",y)\n",
    "#  add()is used to add matrices\n",
    "print (\"Addition of two matrices: \")\n",
    "print (np.add(x,y))\n",
    "# subtract()is used to subtract matrices\n",
    "print (\"Subtraction of two matrices : \")\n",
    "print (np.subtract(x,y))\n",
    "# divide()is used to divide matrices\n",
    "print (\"Matrix Division : \")\n",
    "print (np.divide(x,y))\n",
    "print (\"Multiplication of two matrices: \")\n",
    "print (np.multiply(x,y))\n",
    "print (\"The product of two matrices : \")\n",
    "print (np.dot(x,y))\n",
    "print (\"square root is : \")\n",
    "print (np.sqrt(x))\n",
    "print (\"The summation of elements : \")\n",
    "print (np.sum(y))\n",
    "print (\"The column wise summation  : \")\n",
    "print (np.sum(y,axis=0))\n",
    "print (\"The row wise summation: \")\n",
    "print (np.sum(y,axis=1))\n",
    "# using \"T\" to transpose the matrix\n",
    "print (\"Matrix transposition : \")\n",
    "print (x.T)\n",
    "print(\"Column 1 of X Matrix\", x[:,1])\n",
    "print(\"Row 0 of X Matrix\", x[0,:])"
   ]
  },
  {
   "cell_type": "markdown",
   "id": "004dc852",
   "metadata": {},
   "source": [
    "## Question 7.\n",
    " Perform other matrix operations like converting matrix data to absolute values, taking the negative of matrix values, additing/removing rows/columns from a matrix, finding the maximum or minimum values in a matrix or in a row/column, and finding the sum of some/all elements in a matrix."
   ]
  },
  {
   "cell_type": "code",
   "execution_count": 23,
   "id": "1caeaaf5",
   "metadata": {},
   "outputs": [
    {
     "name": "stdout",
     "output_type": "stream",
     "text": [
      "Absolute Value of arr1 : \n",
      " [  1   3  15 466]\n",
      "\n",
      "Absolute Value of arr2 : \n",
      " [23 56]\n"
     ]
    }
   ],
   "source": [
    "# Converting matrix data to absolute values\n",
    "\n",
    "arr1 = [1, -3, 15, -466]\n",
    "print (\"Absolute Value of arr1 : \\n\",np.absolute(arr1))\n",
    "\n",
    "arr2 = [23 , -56]\n",
    "print (\"\\nAbsolute Value of arr2 : \\n\",np.absolute(arr2))\n"
   ]
  },
  {
   "cell_type": "code",
   "execution_count": 24,
   "id": "4ae8f164",
   "metadata": {},
   "outputs": [
    {
     "name": "stdout",
     "output_type": "stream",
     "text": [
      "Input  number :  10\n",
      "negative of input number :  -10\n"
     ]
    }
   ],
   "source": [
    "# taking the negative of matrix values\n",
    "in_num = 10\n",
    "  \n",
    "print (\"Input  number : \", in_num)\n",
    "    \n",
    "out_num = np.negative(in_num) \n",
    "print (\"negative of input number : \", out_num) "
   ]
  },
  {
   "cell_type": "code",
   "execution_count": 25,
   "id": "0d8c5f14",
   "metadata": {},
   "outputs": [
    {
     "name": "stdout",
     "output_type": "stream",
     "text": [
      "[[1 2 3]\n",
      " [4 5 6]]\n",
      "[[1 2 3]\n",
      " [4 5 6]\n",
      " [7 8 9]] \n",
      "\n",
      "[[ 0  1  2  3]\n",
      " [ 4  5  6  7]\n",
      " [ 8  9 10 11]]\n",
      "[[ 0  1  2  3]\n",
      " [ 8  9 10 11]]\n",
      "[[ 0  1  2  3]\n",
      " [ 4  5  6  7]\n",
      " [ 8  9 10 11]]\n"
     ]
    }
   ],
   "source": [
    "# additing/removing rows/columns from a matrix\n",
    "\n",
    "# Add\n",
    "arr = np.array([[1,2,3],[4,5,6]])\n",
    "print(arr)\n",
    "row = np.array([7,8,9])\n",
    "arr = np.append(arr,[row],axis= 0)\n",
    "print(arr, \"\\n\")\n",
    "# Remove\n",
    "a = np.arange(12).reshape(3, 4)\n",
    "print(a)\n",
    "a_del = np.delete(a, 1, 0)\n",
    "print(a_del)\n",
    "print(a)\n"
   ]
  },
  {
   "cell_type": "code",
   "execution_count": 26,
   "id": "5262bf48",
   "metadata": {},
   "outputs": [
    {
     "name": "stdout",
     "output_type": "stream",
     "text": [
      "-1\n",
      "9\n"
     ]
    }
   ],
   "source": [
    "#  finding the maximum or minimum values in a matrix or in a row/column\n",
    "\n",
    "A = np.array(([2,7,-1],[1,9,8],[-1,5,6]))\n",
    "print(np.min(A))\n",
    "print(np.max(A))"
   ]
  },
  {
   "cell_type": "code",
   "execution_count": 27,
   "id": "605df02e",
   "metadata": {},
   "outputs": [
    {
     "name": "stdout",
     "output_type": "stream",
     "text": [
      "Sum of all the elements is 21\n"
     ]
    }
   ],
   "source": [
    "# finding the sum of some/all elements in a matrix.\n",
    "array1 = np.array(\n",
    "    [[1, 2],\n",
    "     [3, 4],\n",
    "     [5, 6]])\n",
    "\n",
    "total = np.sum(array1)\n",
    "print(f'Sum of all the elements is {total}')\n"
   ]
  },
  {
   "cell_type": "markdown",
   "id": "cc3853e1",
   "metadata": {},
   "source": [
    "## Question 8.\n",
    "Create various type of plots/charts like histograms, plot based on sine/cosine function based on data from a matrix. Further label different axes in a plot and data in a plot."
   ]
  },
  {
   "cell_type": "code",
   "execution_count": 28,
   "id": "a6ef51bf",
   "metadata": {},
   "outputs": [
    {
     "data": {
      "image/png": "[encoded data removed]",
      "text/plain": [
       "<Figure size 432x288 with 1 Axes>"
      ]
     },
     "metadata": {
      "needs_background": "light"
     },
     "output_type": "display_data"
    }
   ],
   "source": [
    "# Line plot\n",
    "df = pd.DataFrame(np.random.randn(500), columns=[\"B\"]).cumsum()\n",
    "df[\"A\"] = pd.Series(list(range(len(df))))\n",
    "df.plot(x=\"A\", y=\"B\"); # df.plot.line(x=\"A\", y=\"B\");"
   ]
  },
  {
   "cell_type": "code",
   "execution_count": 29,
   "id": "42184e69",
   "metadata": {},
   "outputs": [
    {
     "data": {
      "image/png": "[encoded data removed]",
      "text/plain": [
       "<Figure size 432x288 with 1 Axes>"
      ]
     },
     "metadata": {
      "needs_background": "light"
     },
     "output_type": "display_data"
    }
   ],
   "source": [
    "# Area Plot\n",
    "df = pd.DataFrame(np.random.rand(20, 4),\n",
    "       columns =['A', 'B', 'C', 'D'])\n",
    "df.plot.area();"
   ]
  },
  {
   "cell_type": "code",
   "execution_count": 30,
   "id": "82dcffee",
   "metadata": {},
   "outputs": [
    {
     "name": "stderr",
     "output_type": "stream",
     "text": [
      "<ipython-input-30-14778bd748ac>:4: RuntimeWarning: invalid value encountered in sqrt\n",
      "  \"a\": np.sqrt(np.random.randn(1000) + 1),\n"
     ]
    },
    {
     "data": {
      "image/png": "[encoded data removed]",
      "text/plain": [
       "<Figure size 432x288 with 1 Axes>"
      ]
     },
     "metadata": {
      "needs_background": "light"
     },
     "output_type": "display_data"
    }
   ],
   "source": [
    "# Histogram\n",
    "df = pd.DataFrame(\n",
    "        {\n",
    "            \"a\": np.sqrt(np.random.randn(1000) + 1),\n",
    "            \"b\": np.random.randn(1000),\n",
    "        },\n",
    "        columns=[\"a\", \"b\", \"c\"],\n",
    "    )\n",
    "df.plot.hist(alpha=0.5);"
   ]
  },
  {
   "cell_type": "code",
   "execution_count": 31,
   "id": "27aab205",
   "metadata": {},
   "outputs": [
    {
     "data": {
      "image/png": "[encoded data removed]",
      "text/plain": [
       "<Figure size 432x288 with 1 Axes>"
      ]
     },
     "metadata": {
      "needs_background": "light"
     },
     "output_type": "display_data"
    }
   ],
   "source": [
    "# Scatter\n",
    "df = pd.DataFrame(np.random.rand(100, 2),\n",
    "           columns =['a', 'b'])\n",
    "df.plot.scatter(x ='a', y ='b');"
   ]
  },
  {
   "cell_type": "code",
   "execution_count": 32,
   "id": "244c38cf",
   "metadata": {},
   "outputs": [
    {
     "data": {
      "image/png": "[encoded data removed]",
      "text/plain": [
       "<Figure size 432x432 with 1 Axes>"
      ]
     },
     "metadata": {},
     "output_type": "display_data"
    }
   ],
   "source": [
    "# Pie Plot\n",
    "series = pd.Series(3 * np.random.rand(4), index=[\"a\", \"b\", \"c\", \"d\"], name=\"Pie plot\")\n",
    "series.plot.pie(figsize=(6, 6));"
   ]
  },
  {
   "cell_type": "code",
   "execution_count": 33,
   "id": "8edeee08",
   "metadata": {},
   "outputs": [
    {
     "data": {
      "image/png": "[encoded data removed]",
      "text/plain": [
       "<Figure size 432x288 with 1 Axes>"
      ]
     },
     "metadata": {
      "needs_background": "light"
     },
     "output_type": "display_data"
    }
   ],
   "source": [
    "%matplotlib inline \n",
    "x = np.arange(0,4*np.pi,0.1)   # start,stop,step\n",
    "y = np.sin(x)\n",
    "plt.plot(x,y)\n",
    "plt.show()"
   ]
  },
  {
   "cell_type": "code",
   "execution_count": 34,
   "id": "64345ea9",
   "metadata": {},
   "outputs": [
    {
     "data": {
      "image/png": "[encoded data removed]",
      "text/plain": [
       "<Figure size 432x288 with 1 Axes>"
      ]
     },
     "metadata": {
      "needs_background": "light"
     },
     "output_type": "display_data"
    }
   ],
   "source": [
    "x = np.arange(0,4*np.pi,0.1)   # start,stop,step\n",
    "y = np.sin(x)\n",
    "z = np.cos(x)\n",
    "\n",
    "plt.plot(x,y,x,z)\n",
    "plt.xlabel('x values from 0 to 4pi')  # string must be enclosed with quotes '  '\n",
    "plt.ylabel('sin(x) and cos(x)')\n",
    "plt.title('Plot of sin and cos from 0 to 4pi')\n",
    "plt.legend(['sin(x)', 'cos(x)'])      # legend entries as seperate strings in a list\n",
    "plt.show()"
   ]
  },
  {
   "cell_type": "markdown",
   "id": "0198e6f7",
   "metadata": {},
   "source": [
    "## Question 9.\n",
    "Generate different subplots from a given plot and color plot data"
   ]
  },
  {
   "cell_type": "code",
   "execution_count": 35,
   "id": "33b9b58e",
   "metadata": {},
   "outputs": [
    {
     "data": {
      "text/plain": [
       "[<matplotlib.lines.Line2D at 0x1f24d4a7bb0>]"
      ]
     },
     "execution_count": 35,
     "metadata": {},
     "output_type": "execute_result"
    },
    {
     "data": {
      "image/png": "[encoded data removed]",
      "text/plain": [
       "<Figure size 432x288 with 2 Axes>"
      ]
     },
     "metadata": {
      "needs_background": "light"
     },
     "output_type": "display_data"
    }
   ],
   "source": [
    "fig, axs = plt.subplots(2)\n",
    "fig.suptitle('Vertically stacked subplots')\n",
    "axs[0].plot(x, y)\n",
    "axs[1].plot(x, -y)"
   ]
  },
  {
   "cell_type": "code",
   "execution_count": 36,
   "id": "20b769fa",
   "metadata": {},
   "outputs": [
    {
     "data": {
      "text/plain": [
       "[<matplotlib.lines.Line2D at 0x1f24d548b50>]"
      ]
     },
     "execution_count": 36,
     "metadata": {},
     "output_type": "execute_result"
    },
    {
     "data": {
      "image/png": "[encoded data removed]",
      "text/plain": [
       "<Figure size 432x288 with 2 Axes>"
      ]
     },
     "metadata": {
      "needs_background": "light"
     },
     "output_type": "display_data"
    }
   ],
   "source": [
    "fig, (ax1, ax2) = plt.subplots(1, 2)\n",
    "fig.suptitle('Horizontally stacked subplots')\n",
    "ax1.plot(x, y)\n",
    "ax2.plot(x, -y)"
   ]
  },
  {
   "cell_type": "code",
   "execution_count": 37,
   "id": "3d0a53e9",
   "metadata": {},
   "outputs": [
    {
     "data": {
      "image/png": "[encoded data removed]",
      "text/plain": [
       "<Figure size 432x288 with 4 Axes>"
      ]
     },
     "metadata": {
      "needs_background": "light"
     },
     "output_type": "display_data"
    }
   ],
   "source": [
    "fig, axs = plt.subplots(2, 2)\n",
    "axs[0, 0].plot(x, y)\n",
    "axs[0, 0].set_title('Axis [0, 0]')\n",
    "axs[0, 1].plot(x, y, 'tab:orange')\n",
    "axs[0, 1].set_title('Axis [0, 1]')\n",
    "axs[1, 0].plot(x, -y, 'tab:green')\n",
    "axs[1, 0].set_title('Axis [1, 0]')\n",
    "axs[1, 1].plot(x, -y, 'tab:red')\n",
    "axs[1, 1].set_title('Axis [1, 1]')\n",
    "\n",
    "for ax in axs.flat:\n",
    "    ax.set(xlabel='x-label', ylabel='y-label')\n",
    "\n",
    "# Hide x labels and tick labels for top plots and y ticks for right plots.\n",
    "for ax in axs.flat:\n",
    "    ax.label_outer()"
   ]
  },
  {
   "cell_type": "markdown",
   "id": "b8b8d0cb",
   "metadata": {},
   "source": [
    "## Question 10.\n",
    "Use conditional statements and different type of loops based on simple example/s"
   ]
  },
  {
   "cell_type": "code",
   "execution_count": 38,
   "id": "c85b8fb6",
   "metadata": {},
   "outputs": [
    {
     "name": "stdout",
     "output_type": "stream",
     "text": [
      "Ummmm, my favorite!\n",
      "I feel like saying it 100 times...\n",
      "spam! spam! spam! spam! spam! spam! spam! spam! spam! spam! spam! spam! spam! spam! spam! spam! spam! spam! spam! spam! spam! spam! spam! spam! spam! spam! spam! spam! spam! spam! spam! spam! spam! spam! spam! spam! spam! spam! spam! spam! spam! spam! spam! spam! spam! spam! spam! spam! spam! spam! spam! spam! spam! spam! spam! spam! spam! spam! spam! spam! spam! spam! spam! spam! spam! spam! spam! spam! spam! spam! spam! spam! spam! spam! spam! spam! spam! spam! spam! spam! spam! spam! spam! spam! spam! spam! spam! spam! spam! spam! spam! spam! spam! spam! spam! spam! spam! spam! spam! spam! \n",
      "Ummmm, my favorite!\n",
      "You chose 'a'.\n"
     ]
    }
   ],
   "source": [
    "# If\n",
    "food = 'spam'\n",
    "choice =\"a\"\n",
    "if food == 'spam':\n",
    "    print('Ummmm, my favorite!')\n",
    "    print('I feel like saying it 100 times...')\n",
    "    print(100 * (food + '! '))\n",
    "# if-else\n",
    "if food == 'spam':\n",
    "    print('Ummmm, my favorite!')\n",
    "else:\n",
    "    print(\"No, I won't have it. I want spam!\")\n",
    "# if-else-if\n",
    "if choice == 'a':\n",
    "    print(\"You chose 'a'.\")\n",
    "elif choice == 'b':\n",
    "    print(\"You chose 'b'.\")\n",
    "elif choice == 'c':\n",
    "    print(\"You chose 'c'.\")\n",
    "else:\n",
    "    print(\"Invalid choice.\")"
   ]
  },
  {
   "cell_type": "code",
   "execution_count": 41,
   "id": "afe0f8ce",
   "metadata": {},
   "outputs": [
    {
     "name": "stdout",
     "output_type": "stream",
     "text": [
      "Alejandro takes 2 courses\n",
      "Justin takes 3 courses\n",
      "Ed takes 3 courses\n",
      "Margot takes 4 courses\n",
      "Peter takes 5 courses\n",
      "0 \t 1\n",
      "1 \t 2\n",
      "2 \t 4\n",
      "3 \t 8\n",
      "4 \t 16\n",
      "5 \t 32\n",
      "6 \t 64\n",
      "7 \t 128\n",
      "8 \t 256\n",
      "9 \t 512\n",
      "10 \t 1024\n",
      "11 \t 2048\n",
      "12 \t 4096\n",
      "So I'm thinking of person's name. Try to guess it: Hary\n",
      "Nope, that's not it! Hint: letter 1 is H. Guess again: Harrison\n",
      "\n",
      "Great, you got it in 2 guesses!\n"
     ]
    }
   ],
   "source": [
    "## LOOPS\n",
    "# for\n",
    "students = [(\"Alejandro\", [\"CompSci\", \"Physics\"]),\n",
    "            (\"Justin\", [\"Math\", \"CompSci\", \"Stats\"]),\n",
    "            (\"Ed\", [\"CompSci\", \"Accounting\", \"Economics\"]),\n",
    "            (\"Margot\", [\"InfSys\", \"Accounting\", \"Economics\", \"CommLaw\"]),\n",
    "            (\"Peter\", [\"Sociology\", \"Economics\", \"Law\", \"Stats\", \"Music\"])]\n",
    "for (name, subjects) in students:\n",
    "    print(name, \"takes\", len(subjects), \"courses\")\n",
    "    \n",
    "for x in range(13):   # Generate numbers 0 to 12\n",
    "    print(x, '\\t', 2**x)\n",
    "\n",
    "# While\n",
    "name = 'Harrison'\n",
    "guess = input(\"So I'm thinking of person's name. Try to guess it: \")\n",
    "pos = 0\n",
    "\n",
    "while guess != name and pos < len(name):\n",
    "    print(\"Nope, that's not it! Hint: letter \", end='')\n",
    "    print(pos + 1, \"is\", name[pos] + \". \", end='')\n",
    "    guess = input(\"Guess again: \")\n",
    "    pos = pos + 1\n",
    "\n",
    "if pos == len(name) and name != guess:\n",
    "    print(\"Too bad, you couldn't get it.  The name was\", name + \".\")\n",
    "else:\n",
    "    print(\"\\nGreat, you got it in\", pos + 1,  \"guesses!\")   "
   ]
  },
  {
   "cell_type": "markdown",
   "id": "79d22b8d",
   "metadata": {},
   "source": [
    "## Question 11.\n",
    "Perform vectorized implementation of simple matrix operation like finding the transpose of a matrix, adding, subtracting or multiplying two matrices."
   ]
  },
  {
   "cell_type": "code",
   "execution_count": 43,
   "id": "6294ccf7",
   "metadata": {},
   "outputs": [
    {
     "name": "stdout",
     "output_type": "stream",
     "text": [
      " X \n",
      " [[1 2]\n",
      " [4 5]]\n",
      " Y \n",
      " [[ 7  8]\n",
      " [ 9 10]]\n",
      "Addition of two matrices: \n",
      "[[ 8 10]\n",
      " [13 15]]\n",
      "Subtraction of two matrices : \n",
      "[[-6 -6]\n",
      " [-5 -5]]\n",
      "Matrix Division : \n",
      "[[0.14285714 0.25      ]\n",
      " [0.44444444 0.5       ]]\n",
      "Multiplication of two matrices: \n",
      "[[ 7 16]\n",
      " [36 50]]\n",
      "The product of two matrices : \n",
      "[[25 28]\n",
      " [73 82]]\n",
      "square root is : \n",
      "[[1.         1.41421356]\n",
      " [2.         2.23606798]]\n",
      "The summation of elements : \n",
      "34\n",
      "The column wise summation  : \n",
      "[16 18]\n",
      "The row wise summation: \n",
      "[15 19]\n",
      "Matrix transposition : \n",
      "[[1 4]\n",
      " [2 5]]\n"
     ]
    }
   ],
   "source": [
    "# Two matrices are initialized by value\n",
    "x = np.array([[1, 2], [4, 5]])\n",
    "y = np.array([[7, 8], [9, 10]])\n",
    "print (\" X \\n\",x)\n",
    "print(\" Y \\n\",y)\n",
    "#  add()is used to add matrices\n",
    "print (\"Addition of two matrices: \")\n",
    "print (np.add(x,y))\n",
    "# subtract()is used to subtract matrices\n",
    "print (\"Subtraction of two matrices : \")\n",
    "print (np.subtract(x,y))\n",
    "# divide()is used to divide matrices\n",
    "print (\"Matrix Division : \")\n",
    "print (np.divide(x,y))\n",
    "print (\"Multiplication of two matrices: \")\n",
    "print (np.multiply(x,y))\n",
    "print (\"The product of two matrices : \")\n",
    "print (np.dot(x,y))\n",
    "print (\"square root is : \")\n",
    "print (np.sqrt(x))\n",
    "print (\"The summation of elements : \")\n",
    "print (np.sum(y))\n",
    "print (\"The column wise summation  : \")\n",
    "print (np.sum(y,axis=0))\n",
    "print (\"The row wise summation: \")\n",
    "print (np.sum(y,axis=1))\n",
    "# using \"T\" to transpose the matrix\n",
    "print (\"Matrix transposition : \")\n",
    "print (x.T)\n"
   ]
  },
  {
   "cell_type": "markdown",
   "id": "5ac6613a",
   "metadata": {},
   "source": [
    "## Question 12.\n",
    "Implement Linear Regression problem. For example, based on a dataset comprising of existing set of prices and area/size of the houses, predict the estimated price of a given house."
   ]
  },
  {
   "cell_type": "code",
   "execution_count": 1,
   "id": "02ba9cb3",
   "metadata": {},
   "outputs": [
    {
     "ename": "SyntaxError",
     "evalue": "invalid syntax (<ipython-input-1-81482383721d>, line 8)",
     "output_type": "error",
     "traceback": [
      "\u001b[1;36m  File \u001b[1;32m\"<ipython-input-1-81482383721d>\"\u001b[1;36m, line \u001b[1;32m8\u001b[0m\n\u001b[1;33m    cd C:\\Users\\Dev\\Desktop\\Kaggle\\Salinity\u001b[0m\n\u001b[1;37m       ^\u001b[0m\n\u001b[1;31mSyntaxError\u001b[0m\u001b[1;31m:\u001b[0m invalid syntax\n"
     ]
    }
   ],
   "source": [
    "import numpy as np\n",
    "import pandas as pd\n",
    "import seaborn as sns\n",
    "import matplotlib.pyplot as plt\n",
    "from sklearn import preprocessing, svm\n",
    "from sklearn.model_selection import train_test_split\n",
    "from sklearn.linear_model import LinearRegression\n",
    "cd C:\\Users\\Dev\\Desktop\\Kaggle\\Salinity\n",
    "\n",
    "# Changing the file read location to the location of the dataset\n",
    "df = pd.read_csv('bottle.csv')\n",
    "df_binary = df[['Salnty', 'T_degC']]\n",
    "\n",
    "# Taking only the selected two attributes from the dataset\n",
    "df_binary.columns = ['Sal', 'Temp']\n",
    "\n",
    "# Renaming the columns for easier writing of the code\n",
    "df_binary.head()\n",
    "\n",
    "# Displaying only the 1st rows along with the column names\n",
    "\n",
    "sns.lmplot(x =\"Sal\", y =\"Temp\", data = df_binary, order = 2, ci = None)\n",
    "\n",
    "# Plotting the data scatter\n",
    "# Eliminating NaN or missing input numbers\n",
    "df_binary.fillna(method ='ffill', inplace = True)\n",
    "\n",
    "X = np.array(df_binary['Sal']).reshape(-1, 1)\n",
    "y = np.array(df_binary['Temp']).reshape(-1, 1)\n",
    "\n",
    "# Separating the data into independent and dependent variables\n",
    "# Converting each dataframe into a numpy array\n",
    "# since each dataframe contains only one column\n",
    "df_binary.dropna(inplace = True)\n",
    "\n",
    "# Dropping any rows with Nan values\n",
    "X_train, X_test, y_train, y_test = train_test_split(X, y, test_size = 0.25)\n",
    "\n",
    "# Splitting the data into training and testing data\n",
    "regr = LinearRegression()\n",
    "\n",
    "regr.fit(X_train, y_train)\n",
    "print(regr.score(X_test, y_test))\n",
    "y_pred = regr.predict(X_test)\n",
    "plt.scatter(X_test, y_test, color ='b')\n",
    "plt.plot(X_test, y_pred, color ='k')\n",
    "\n",
    "plt.show()\n",
    "# Data scatter of predicted values\n",
    "\n",
    "df_binary500 = df_binary[:][:500]\n",
    "\n",
    "# Selecting the 1st 500 rows of the data\n",
    "sns.lmplot(x =\"Sal\", y =\"Temp\", data = df_binary500,\n",
    "\t\t\t\t\t\t\torder = 2, ci = None)\n",
    "\n",
    "df_binary500.fillna(method ='ffill', inplace = True)\n",
    "\n",
    "X = np.array(df_binary500['Sal']).reshape(-1, 1)\n",
    "y = np.array(df_binary500['Temp']).reshape(-1, 1)\n",
    "\n",
    "df_binary500.dropna(inplace = True)\n",
    "X_train, X_test, y_train, y_test = train_test_split(X, y, test_size = 0.25)\n",
    "\n",
    "regr = LinearRegression()\n",
    "regr.fit(X_train, y_train)\n",
    "print(regr.score(X_test, y_test))\n",
    "\n",
    "y_pred = regr.predict(X_test)\n",
    "plt.scatter(X_test, y_test, color ='b')\n",
    "plt.plot(X_test, y_pred, color ='k')\n",
    "\n",
    "plt.show()\n",
    "\n"
   ]
  },
  {
   "cell_type": "markdown",
   "id": "275e4a3f",
   "metadata": {},
   "source": [
    "3. Based on multiple features/variables perform Linear Regression. For example, based on a\n",
    "number of additional features like number of bedrooms, servant room, number of balconies,\n",
    "number of houses of years a house has been built – predict the price of a house."
   ]
  },
  {
   "cell_type": "code",
   "execution_count": 2,
   "id": "92c9c516",
   "metadata": {},
   "outputs": [
    {
     "ename": "FileNotFoundError",
     "evalue": "[Errno 2] No such file or directory: 'cars.csv'",
     "output_type": "error",
     "traceback": [
      "\u001b[1;31m---------------------------------------------------------------------------\u001b[0m",
      "\u001b[1;31mFileNotFoundError\u001b[0m                         Traceback (most recent call last)",
      "\u001b[1;32m<ipython-input-2-ebb0ac8e2924>\u001b[0m in \u001b[0;36m<module>\u001b[1;34m\u001b[0m\n\u001b[0;32m      3\u001b[0m \u001b[1;32mfrom\u001b[0m \u001b[0msklearn\u001b[0m \u001b[1;32mimport\u001b[0m \u001b[0mlinear_model\u001b[0m\u001b[1;33m\u001b[0m\u001b[1;33m\u001b[0m\u001b[0m\n\u001b[0;32m      4\u001b[0m \u001b[1;33m\u001b[0m\u001b[0m\n\u001b[1;32m----> 5\u001b[1;33m \u001b[0mdf\u001b[0m \u001b[1;33m=\u001b[0m \u001b[0mpandas\u001b[0m\u001b[1;33m.\u001b[0m\u001b[0mread_csv\u001b[0m\u001b[1;33m(\u001b[0m\u001b[1;34m\"cars.csv\"\u001b[0m\u001b[1;33m)\u001b[0m\u001b[1;33m\u001b[0m\u001b[1;33m\u001b[0m\u001b[0m\n\u001b[0m\u001b[0;32m      6\u001b[0m \u001b[1;33m\u001b[0m\u001b[0m\n\u001b[0;32m      7\u001b[0m \u001b[0mX\u001b[0m \u001b[1;33m=\u001b[0m \u001b[0mdf\u001b[0m\u001b[1;33m[\u001b[0m\u001b[1;33m[\u001b[0m\u001b[1;34m'Weight'\u001b[0m\u001b[1;33m,\u001b[0m \u001b[1;34m'Volume'\u001b[0m\u001b[1;33m]\u001b[0m\u001b[1;33m]\u001b[0m\u001b[1;33m\u001b[0m\u001b[1;33m\u001b[0m\u001b[0m\n",
      "\u001b[1;32mD:\\Anaconda\\lib\\site-packages\\pandas\\util\\_decorators.py\u001b[0m in \u001b[0;36mwrapper\u001b[1;34m(*args, **kwargs)\u001b[0m\n\u001b[0;32m    309\u001b[0m                     \u001b[0mstacklevel\u001b[0m\u001b[1;33m=\u001b[0m\u001b[0mstacklevel\u001b[0m\u001b[1;33m,\u001b[0m\u001b[1;33m\u001b[0m\u001b[1;33m\u001b[0m\u001b[0m\n\u001b[0;32m    310\u001b[0m                 )\n\u001b[1;32m--> 311\u001b[1;33m             \u001b[1;32mreturn\u001b[0m \u001b[0mfunc\u001b[0m\u001b[1;33m(\u001b[0m\u001b[1;33m*\u001b[0m\u001b[0margs\u001b[0m\u001b[1;33m,\u001b[0m \u001b[1;33m**\u001b[0m\u001b[0mkwargs\u001b[0m\u001b[1;33m)\u001b[0m\u001b[1;33m\u001b[0m\u001b[1;33m\u001b[0m\u001b[0m\n\u001b[0m\u001b[0;32m    312\u001b[0m \u001b[1;33m\u001b[0m\u001b[0m\n\u001b[0;32m    313\u001b[0m         \u001b[1;32mreturn\u001b[0m \u001b[0mwrapper\u001b[0m\u001b[1;33m\u001b[0m\u001b[1;33m\u001b[0m\u001b[0m\n",
      "\u001b[1;32mD:\\Anaconda\\lib\\site-packages\\pandas\\io\\parsers\\readers.py\u001b[0m in \u001b[0;36mread_csv\u001b[1;34m(filepath_or_buffer, sep, delimiter, header, names, index_col, usecols, squeeze, prefix, mangle_dupe_cols, dtype, engine, converters, true_values, false_values, skipinitialspace, skiprows, skipfooter, nrows, na_values, keep_default_na, na_filter, verbose, skip_blank_lines, parse_dates, infer_datetime_format, keep_date_col, date_parser, dayfirst, cache_dates, iterator, chunksize, compression, thousands, decimal, lineterminator, quotechar, quoting, doublequote, escapechar, comment, encoding, encoding_errors, dialect, error_bad_lines, warn_bad_lines, on_bad_lines, delim_whitespace, low_memory, memory_map, float_precision, storage_options)\u001b[0m\n\u001b[0;32m    584\u001b[0m     \u001b[0mkwds\u001b[0m\u001b[1;33m.\u001b[0m\u001b[0mupdate\u001b[0m\u001b[1;33m(\u001b[0m\u001b[0mkwds_defaults\u001b[0m\u001b[1;33m)\u001b[0m\u001b[1;33m\u001b[0m\u001b[1;33m\u001b[0m\u001b[0m\n\u001b[0;32m    585\u001b[0m \u001b[1;33m\u001b[0m\u001b[0m\n\u001b[1;32m--> 586\u001b[1;33m     \u001b[1;32mreturn\u001b[0m \u001b[0m_read\u001b[0m\u001b[1;33m(\u001b[0m\u001b[0mfilepath_or_buffer\u001b[0m\u001b[1;33m,\u001b[0m \u001b[0mkwds\u001b[0m\u001b[1;33m)\u001b[0m\u001b[1;33m\u001b[0m\u001b[1;33m\u001b[0m\u001b[0m\n\u001b[0m\u001b[0;32m    587\u001b[0m \u001b[1;33m\u001b[0m\u001b[0m\n\u001b[0;32m    588\u001b[0m \u001b[1;33m\u001b[0m\u001b[0m\n",
      "\u001b[1;32mD:\\Anaconda\\lib\\site-packages\\pandas\\io\\parsers\\readers.py\u001b[0m in \u001b[0;36m_read\u001b[1;34m(filepath_or_buffer, kwds)\u001b[0m\n\u001b[0;32m    480\u001b[0m \u001b[1;33m\u001b[0m\u001b[0m\n\u001b[0;32m    481\u001b[0m     \u001b[1;31m# Create the parser.\u001b[0m\u001b[1;33m\u001b[0m\u001b[1;33m\u001b[0m\u001b[1;33m\u001b[0m\u001b[0m\n\u001b[1;32m--> 482\u001b[1;33m     \u001b[0mparser\u001b[0m \u001b[1;33m=\u001b[0m \u001b[0mTextFileReader\u001b[0m\u001b[1;33m(\u001b[0m\u001b[0mfilepath_or_buffer\u001b[0m\u001b[1;33m,\u001b[0m \u001b[1;33m**\u001b[0m\u001b[0mkwds\u001b[0m\u001b[1;33m)\u001b[0m\u001b[1;33m\u001b[0m\u001b[1;33m\u001b[0m\u001b[0m\n\u001b[0m\u001b[0;32m    483\u001b[0m \u001b[1;33m\u001b[0m\u001b[0m\n\u001b[0;32m    484\u001b[0m     \u001b[1;32mif\u001b[0m \u001b[0mchunksize\u001b[0m \u001b[1;32mor\u001b[0m \u001b[0miterator\u001b[0m\u001b[1;33m:\u001b[0m\u001b[1;33m\u001b[0m\u001b[1;33m\u001b[0m\u001b[0m\n",
      "\u001b[1;32mD:\\Anaconda\\lib\\site-packages\\pandas\\io\\parsers\\readers.py\u001b[0m in \u001b[0;36m__init__\u001b[1;34m(self, f, engine, **kwds)\u001b[0m\n\u001b[0;32m    809\u001b[0m             \u001b[0mself\u001b[0m\u001b[1;33m.\u001b[0m\u001b[0moptions\u001b[0m\u001b[1;33m[\u001b[0m\u001b[1;34m\"has_index_names\"\u001b[0m\u001b[1;33m]\u001b[0m \u001b[1;33m=\u001b[0m \u001b[0mkwds\u001b[0m\u001b[1;33m[\u001b[0m\u001b[1;34m\"has_index_names\"\u001b[0m\u001b[1;33m]\u001b[0m\u001b[1;33m\u001b[0m\u001b[1;33m\u001b[0m\u001b[0m\n\u001b[0;32m    810\u001b[0m \u001b[1;33m\u001b[0m\u001b[0m\n\u001b[1;32m--> 811\u001b[1;33m         \u001b[0mself\u001b[0m\u001b[1;33m.\u001b[0m\u001b[0m_engine\u001b[0m \u001b[1;33m=\u001b[0m \u001b[0mself\u001b[0m\u001b[1;33m.\u001b[0m\u001b[0m_make_engine\u001b[0m\u001b[1;33m(\u001b[0m\u001b[0mself\u001b[0m\u001b[1;33m.\u001b[0m\u001b[0mengine\u001b[0m\u001b[1;33m)\u001b[0m\u001b[1;33m\u001b[0m\u001b[1;33m\u001b[0m\u001b[0m\n\u001b[0m\u001b[0;32m    812\u001b[0m \u001b[1;33m\u001b[0m\u001b[0m\n\u001b[0;32m    813\u001b[0m     \u001b[1;32mdef\u001b[0m \u001b[0mclose\u001b[0m\u001b[1;33m(\u001b[0m\u001b[0mself\u001b[0m\u001b[1;33m)\u001b[0m\u001b[1;33m:\u001b[0m\u001b[1;33m\u001b[0m\u001b[1;33m\u001b[0m\u001b[0m\n",
      "\u001b[1;32mD:\\Anaconda\\lib\\site-packages\\pandas\\io\\parsers\\readers.py\u001b[0m in \u001b[0;36m_make_engine\u001b[1;34m(self, engine)\u001b[0m\n\u001b[0;32m   1038\u001b[0m             )\n\u001b[0;32m   1039\u001b[0m         \u001b[1;31m# error: Too many arguments for \"ParserBase\"\u001b[0m\u001b[1;33m\u001b[0m\u001b[1;33m\u001b[0m\u001b[1;33m\u001b[0m\u001b[0m\n\u001b[1;32m-> 1040\u001b[1;33m         \u001b[1;32mreturn\u001b[0m \u001b[0mmapping\u001b[0m\u001b[1;33m[\u001b[0m\u001b[0mengine\u001b[0m\u001b[1;33m]\u001b[0m\u001b[1;33m(\u001b[0m\u001b[0mself\u001b[0m\u001b[1;33m.\u001b[0m\u001b[0mf\u001b[0m\u001b[1;33m,\u001b[0m \u001b[1;33m**\u001b[0m\u001b[0mself\u001b[0m\u001b[1;33m.\u001b[0m\u001b[0moptions\u001b[0m\u001b[1;33m)\u001b[0m  \u001b[1;31m# type: ignore[call-arg]\u001b[0m\u001b[1;33m\u001b[0m\u001b[1;33m\u001b[0m\u001b[0m\n\u001b[0m\u001b[0;32m   1041\u001b[0m \u001b[1;33m\u001b[0m\u001b[0m\n\u001b[0;32m   1042\u001b[0m     \u001b[1;32mdef\u001b[0m \u001b[0m_failover_to_python\u001b[0m\u001b[1;33m(\u001b[0m\u001b[0mself\u001b[0m\u001b[1;33m)\u001b[0m\u001b[1;33m:\u001b[0m\u001b[1;33m\u001b[0m\u001b[1;33m\u001b[0m\u001b[0m\n",
      "\u001b[1;32mD:\\Anaconda\\lib\\site-packages\\pandas\\io\\parsers\\c_parser_wrapper.py\u001b[0m in \u001b[0;36m__init__\u001b[1;34m(self, src, **kwds)\u001b[0m\n\u001b[0;32m     49\u001b[0m \u001b[1;33m\u001b[0m\u001b[0m\n\u001b[0;32m     50\u001b[0m         \u001b[1;31m# open handles\u001b[0m\u001b[1;33m\u001b[0m\u001b[1;33m\u001b[0m\u001b[1;33m\u001b[0m\u001b[0m\n\u001b[1;32m---> 51\u001b[1;33m         \u001b[0mself\u001b[0m\u001b[1;33m.\u001b[0m\u001b[0m_open_handles\u001b[0m\u001b[1;33m(\u001b[0m\u001b[0msrc\u001b[0m\u001b[1;33m,\u001b[0m \u001b[0mkwds\u001b[0m\u001b[1;33m)\u001b[0m\u001b[1;33m\u001b[0m\u001b[1;33m\u001b[0m\u001b[0m\n\u001b[0m\u001b[0;32m     52\u001b[0m         \u001b[1;32massert\u001b[0m \u001b[0mself\u001b[0m\u001b[1;33m.\u001b[0m\u001b[0mhandles\u001b[0m \u001b[1;32mis\u001b[0m \u001b[1;32mnot\u001b[0m \u001b[1;32mNone\u001b[0m\u001b[1;33m\u001b[0m\u001b[1;33m\u001b[0m\u001b[0m\n\u001b[0;32m     53\u001b[0m \u001b[1;33m\u001b[0m\u001b[0m\n",
      "\u001b[1;32mD:\\Anaconda\\lib\\site-packages\\pandas\\io\\parsers\\base_parser.py\u001b[0m in \u001b[0;36m_open_handles\u001b[1;34m(self, src, kwds)\u001b[0m\n\u001b[0;32m    220\u001b[0m         \u001b[0mLet\u001b[0m \u001b[0mthe\u001b[0m \u001b[0mreaders\u001b[0m \u001b[0mopen\u001b[0m \u001b[0mIOHandles\u001b[0m \u001b[0mafter\u001b[0m \u001b[0mthey\u001b[0m \u001b[0mare\u001b[0m \u001b[0mdone\u001b[0m \u001b[1;32mwith\u001b[0m \u001b[0mtheir\u001b[0m \u001b[0mpotential\u001b[0m \u001b[0mraises\u001b[0m\u001b[1;33m.\u001b[0m\u001b[1;33m\u001b[0m\u001b[1;33m\u001b[0m\u001b[0m\n\u001b[0;32m    221\u001b[0m         \"\"\"\n\u001b[1;32m--> 222\u001b[1;33m         self.handles = get_handle(\n\u001b[0m\u001b[0;32m    223\u001b[0m             \u001b[0msrc\u001b[0m\u001b[1;33m,\u001b[0m\u001b[1;33m\u001b[0m\u001b[1;33m\u001b[0m\u001b[0m\n\u001b[0;32m    224\u001b[0m             \u001b[1;34m\"r\"\u001b[0m\u001b[1;33m,\u001b[0m\u001b[1;33m\u001b[0m\u001b[1;33m\u001b[0m\u001b[0m\n",
      "\u001b[1;32mD:\\Anaconda\\lib\\site-packages\\pandas\\io\\common.py\u001b[0m in \u001b[0;36mget_handle\u001b[1;34m(path_or_buf, mode, encoding, compression, memory_map, is_text, errors, storage_options)\u001b[0m\n\u001b[0;32m    700\u001b[0m         \u001b[1;32mif\u001b[0m \u001b[0mioargs\u001b[0m\u001b[1;33m.\u001b[0m\u001b[0mencoding\u001b[0m \u001b[1;32mand\u001b[0m \u001b[1;34m\"b\"\u001b[0m \u001b[1;32mnot\u001b[0m \u001b[1;32min\u001b[0m \u001b[0mioargs\u001b[0m\u001b[1;33m.\u001b[0m\u001b[0mmode\u001b[0m\u001b[1;33m:\u001b[0m\u001b[1;33m\u001b[0m\u001b[1;33m\u001b[0m\u001b[0m\n\u001b[0;32m    701\u001b[0m             \u001b[1;31m# Encoding\u001b[0m\u001b[1;33m\u001b[0m\u001b[1;33m\u001b[0m\u001b[1;33m\u001b[0m\u001b[0m\n\u001b[1;32m--> 702\u001b[1;33m             handle = open(\n\u001b[0m\u001b[0;32m    703\u001b[0m                 \u001b[0mhandle\u001b[0m\u001b[1;33m,\u001b[0m\u001b[1;33m\u001b[0m\u001b[1;33m\u001b[0m\u001b[0m\n\u001b[0;32m    704\u001b[0m                 \u001b[0mioargs\u001b[0m\u001b[1;33m.\u001b[0m\u001b[0mmode\u001b[0m\u001b[1;33m,\u001b[0m\u001b[1;33m\u001b[0m\u001b[1;33m\u001b[0m\u001b[0m\n",
      "\u001b[1;31mFileNotFoundError\u001b[0m: [Errno 2] No such file or directory: 'cars.csv'"
     ]
    }
   ],
   "source": [
    "from sklearn import linear_model\n",
    "import pandas\n",
    "from sklearn import linear_model\n",
    "\n",
    "df = pandas.read_csv(\"cars.csv\")\n",
    "\n",
    "X = df[['Weight', 'Volume']]\n",
    "y = df['CO2']\n",
    "\n",
    "regr = linear_model.LinearRegression()\n",
    "regr.fit(X, y)\n",
    "\n",
    "#predict the CO2 emission of a car where the weight is 2300kg, and the volume is 1300cm3:\n",
    "predictedCO2 = regr.predict([[2300, 1300]])\n",
    "\n",
    "print(predictedCO2)\n",
    "\n",
    "#Print the coefficient values of the regression object:\n",
    "\n",
    "import pandas\n",
    "from sklearn import linear_model\n",
    "\n",
    "df = pandas.read_csv(\"cars.csv\")\n",
    "\n",
    "X = df[['Weight', 'Volume']]\n",
    "y = df['CO2']\n",
    "\n",
    "regr = linear_model.LinearRegression()\n",
    "regr.fit(X, y)\n",
    "\n",
    "print(regr.coef_)"
   ]
  },
  {
   "cell_type": "code",
   "execution_count": null,
   "id": "f518e024",
   "metadata": {},
   "outputs": [],
   "source": []
  }
 ],
 "metadata": {
  "kernelspec": {
   "display_name": "Python 3",
   "language": "python",
   "name": "python3"
  },
  "language_info": {
   "codemirror_mode": {
    "name": "ipython",
    "version": 3
   },
   "file_extension": ".py",
   "mimetype": "text/x-python",
   "name": "python",
   "nbconvert_exporter": "python",
   "pygments_lexer": "ipython3",
   "version": "3.8.8"
  }
 },
 "nbformat": 4,
 "nbformat_minor": 5
}
